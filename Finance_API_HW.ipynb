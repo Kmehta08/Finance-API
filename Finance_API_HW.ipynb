{
  "nbformat": 4,
  "nbformat_minor": 0,
  "metadata": {
    "colab": {
      "provenance": []
    },
    "kernelspec": {
      "name": "python3",
      "display_name": "Python 3"
    },
    "language_info": {
      "name": "python"
    }
  },
  "cells": [
    {
      "cell_type": "code",
      "execution_count": 6,
      "metadata": {
        "id": "P9pGpIQyJKpp"
      },
      "outputs": [],
      "source": [
        "import pandas as pd\n",
        "import json\n",
        "import requests"
      ]
    },
    {
      "cell_type": "markdown",
      "source": [
        "**Task 1: Fetch Basic Stock Data **"
      ],
      "metadata": {
        "id": "I9fYxvoub8Dn"
      }
    },
    {
      "cell_type": "code",
      "source": [
        "print(\"\\nInput two or more stock symbols:\")\n",
        "stock=input()\n",
        "apikey=\"\"\n",
        "url = \"https://yfapi.net/v6/finance/quote\"\n",
        "querystring = {\"symbols\":stock}\n",
        "headers = {\n",
        "    'x-api-key': apikey}\n",
        "\n",
        "response = requests.request(\"GET\", url, headers=headers, params=querystring)\n",
        "\n",
        "df = pd.DataFrame(response.json()['quoteResponse']['result'])\n",
        "new_df = df[['symbol', 'shortName', 'regularMarketPrice']]\n",
        "new_df = new_df.rename(columns={'symbol': 'Stock Ticker', 'shortName': 'Company', 'regularMarketPrice': 'Current Market Price'})\n",
        "new_df['Current Market Price'] = new_df['Current Market Price'].apply(lambda x: f\"${x:,.2f}\")\n",
        "print(new_df)"
      ],
      "metadata": {
        "id": "dJWHeYhmJauy",
        "colab": {
          "base_uri": "https://localhost:8080/"
        },
        "outputId": "fc688b79-cf00-480f-d8d7-43f4fca302a1"
      },
      "execution_count": 60,
      "outputs": [
        {
          "output_type": "stream",
          "name": "stdout",
          "text": [
            "\n",
            "Input two or more stock symbols:\n",
            "AAPL,MSFT\n",
            "  Stock Ticker                Company Current Market Price\n",
            "0         AAPL             Apple Inc.              $240.36\n",
            "1         MSFT  Microsoft Corporation              $399.73\n"
          ]
        }
      ]
    },
    {
      "cell_type": "markdown",
      "source": [
        "**Task 2.1: Fetch Additional Data Using Modules**"
      ],
      "metadata": {
        "id": "tbI_Gu20byFi"
      }
    },
    {
      "cell_type": "markdown",
      "source": [],
      "metadata": {
        "id": "vXl4cpsqb2_v"
      }
    },
    {
      "cell_type": "code",
      "source": [
        "print(\"\\nInput stock symbol:\")\n",
        "stock=input()\n",
        "\n",
        "apikey=\"\"\n",
        "url = f\"https://yfapi.net/v11/finance/quoteSummary/{stock}\"\n",
        "querystring = {\n",
        "    \"symbol\": stock,\n",
        "    \"modules\": \"summaryDetail,financialData\"}\n",
        "headers = {\n",
        "    'x-api-key': apikey}\n",
        "\n",
        "response = requests.request(\"GET\", url, headers=headers, params=querystring)\n",
        "data = response.json()\n",
        "summary = data[\"quoteSummary\"][\"result\"][0]\n",
        "\n",
        "stock_details = {\n",
        "    \"Stock Ticker\": stock,\n",
        "    \"52-Week High\": summary[\"summaryDetail\"][\"fiftyTwoWeekHigh\"][\"raw\"],\n",
        "    \"52-Week Low\": summary[\"summaryDetail\"][\"fiftyTwoWeekLow\"][\"raw\"],\n",
        "    \"Return on Assets (ROA)\": summary[\"financialData\"][\"returnOnAssets\"][\"raw\"]}\n",
        "\n",
        "print(json.dumps(stock_details, indent=4))\n",
        "\n"
      ],
      "metadata": {
        "id": "UfIf8mQ1JjOy",
        "colab": {
          "base_uri": "https://localhost:8080/"
        },
        "outputId": "7edf69b1-6724-42bb-9544-c8f4b7f49ddd"
      },
      "execution_count": 59,
      "outputs": [
        {
          "output_type": "stream",
          "name": "stdout",
          "text": [
            "\n",
            "Input two or more stock symbols:\n",
            "AAPL\n",
            "{\n",
            "    \"Stock Ticker\": \"AAPL\",\n",
            "    \"52-Week High\": 260.1,\n",
            "    \"52-Week Low\": 164.08,\n",
            "    \"Return on Assets (ROA)\": 0.22518998\n",
            "}\n"
          ]
        }
      ]
    },
    {
      "cell_type": "markdown",
      "source": [
        "**Task 2.2: Fetch Additional Data Using Modules**"
      ],
      "metadata": {
        "id": "7pXm0wjKcAG2"
      }
    },
    {
      "cell_type": "code",
      "source": [
        "apikey = \"\"\n",
        "headers = {'x-api-key': apikey}\n",
        "response = requests.get(\"https://yfapi.net/v1/finance/trending/US\", headers=headers)\n",
        "stock = response.json()[\"finance\"][\"result\"][0][\"quotes\"][0][\"symbol\"]\n",
        "\n",
        "response = requests.get(\"https://yfapi.net/v6/finance/quote\", headers=headers, params={\"symbols\": stock})\n",
        "stock_data = response.json()[\"quoteResponse\"][\"result\"][0]\n",
        "\n",
        "ticker = stock_data[\"symbol\"]\n",
        "company = stock_data.get(\"shortName\", \"N/A\")\n",
        "current_price = f\"${stock_data.get('regularMarketPrice', 'N/A'):.2f}\"\n",
        "high = f\"${stock_data.get('fiftyTwoWeekHigh', 'N/A'):.2f}\"\n",
        "low = f\"${stock_data.get('fiftyTwoWeekLow', 'N/A'):.2f}\"\n",
        "\n",
        "print(f\"Stock Ticker: {ticker}, Company: {company}, Current Price: {current_price}, 52-Week High: {high}, 52-Week Low: {low}\")\n"
      ],
      "metadata": {
        "colab": {
          "base_uri": "https://localhost:8080/"
        },
        "id": "QzEtnkMkB0sH",
        "outputId": "87e52550-9794-43e1-ed26-083de39b0459"
      },
      "execution_count": 11,
      "outputs": [
        {
          "output_type": "stream",
          "name": "stdout",
          "text": [
            "Stock Ticker: NVDA, Company: NVIDIA Corporation, Current Price: $131.28, 52-Week High: $153.13, 52-Week Low: $75.61\n"
          ]
        }
      ]
    }
  ]
}